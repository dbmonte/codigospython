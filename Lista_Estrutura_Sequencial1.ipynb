{
  "nbformat": 4,
  "nbformat_minor": 0,
  "metadata": {
    "colab": {
      "provenance": []
    },
    "kernelspec": {
      "name": "python3",
      "display_name": "Python 3"
    },
    "language_info": {
      "name": "python"
    }
  },
  "cells": [
    {
      "cell_type": "code",
      "execution_count": null,
      "metadata": {
        "id": "mRk08Lhpvmzu",
        "colab": {
          "base_uri": "https://localhost:8080/"
        },
        "outputId": "0ffd5032-74df-475e-eab3-5a4a52a50108"
      },
      "outputs": [
        {
          "output_type": "stream",
          "name": "stdout",
          "text": [
            "Alô, mundo\n"
          ]
        }
      ],
      "source": [
        "### Questão 1 Faça um Programa que mostre a mensagem \"Alô mundo\" na tela\n",
        "print(\"Alô, mundo\")\n",
        "\n"
      ]
    },
    {
      "cell_type": "code",
      "source": [
        "### Questão 2 Faça um Programa que peça um número e então mostre a mensagem: \"O número informado foi [número]\". \n",
        "numero1 = input(\"Digite um numero: \")\n",
        "print(\"O numero digitado foi \", numero1)"
      ],
      "metadata": {
        "id": "_EwenstZwJYK",
        "colab": {
          "base_uri": "https://localhost:8080/"
        },
        "outputId": "590f754f-6543-4254-be57-09d6b9834e15"
      },
      "execution_count": null,
      "outputs": [
        {
          "output_type": "stream",
          "name": "stdout",
          "text": [
            "Digite um numero: 1\n",
            "O numero digitado foi  1\n"
          ]
        }
      ]
    },
    {
      "cell_type": "code",
      "source": [
        "### Questão 3 Faça um Programa que peça dois números e imprima a soma\n",
        "num1 = int(input(\"Digite um número: \"))\n",
        "num2 = int(input(\"Digite outro número: \"))\n",
        "print(\"A soma dos dois números é: \", num1+num2)"
      ],
      "metadata": {
        "colab": {
          "base_uri": "https://localhost:8080/"
        },
        "id": "yIzTQCuiwrb8",
        "outputId": "152e941a-2124-42b6-f928-636d3606d8af"
      },
      "execution_count": null,
      "outputs": [
        {
          "output_type": "stream",
          "name": "stdout",
          "text": [
            "Digite um número: 2\n",
            "Digite outro número: 2\n",
            "A soma dos dois números é:  4\n"
          ]
        }
      ]
    },
    {
      "cell_type": "code",
      "source": [
        "### Questão 4 Faça um Programa que peça as 4 notas bimestrais e mostre a média\n",
        "nota1 = float(input(\"Digite primeira nota: \"))\n",
        "nota2 = float(input(\"Digite segunda nota: \"))\n",
        "nota3 = float(input(\"Digite terceira nota: \"))\n",
        "nota4 = float(input(\"Digite quarta nota: \"))\n",
        "print(\"A media do aluno é:\", (nota1+nota2+nota3+nota4)/4)"
      ],
      "metadata": {
        "id": "5d5qCmA_yDSD",
        "colab": {
          "base_uri": "https://localhost:8080/"
        },
        "outputId": "0d1f65f7-6be2-4196-c8aa-68dd673c6e25"
      },
      "execution_count": null,
      "outputs": [
        {
          "output_type": "stream",
          "name": "stdout",
          "text": [
            "Digite primeira nota: 8\n",
            "Digite segunda nota: 9\n",
            "Digite terceira nota: 7.5\n",
            "Digite quarta nota: 9\n",
            "A media do aluno é: 8.375\n"
          ]
        }
      ]
    },
    {
      "cell_type": "code",
      "source": [
        "soma = 0\n",
        "for i in range(1, 5):\n",
        "    nota = float(input(f\"Informe sua {i}ª nota: \"))\n",
        "\n",
        "    soma = soma + nota\n",
        "\n",
        "print('sua média é: ',soma/4)"
      ],
      "metadata": {
        "id": "N-zeIcXZEXey"
      },
      "execution_count": null,
      "outputs": []
    },
    {
      "cell_type": "code",
      "source": [
        "### Questão 4 Faça um Programa que peça as 4 notas bimestrais e mostre a média\n",
        "nota1 = float(input(\"Digite primeira nota: \"))\n",
        "nota2 = float(input(\"Digite segunda nota: \"))\n",
        "nota3 = float(input(\"Digite terceira nota: \"))\n",
        "nota4 = float(input(\"Digite quarta nota: \"))\n",
        "media = float((nota1+nota2+nota3+nota4)/4)\n",
        "print(\"A media do aluno é:\", media)"
      ],
      "metadata": {
        "id": "S8LDS4W91Szz",
        "colab": {
          "base_uri": "https://localhost:8080/"
        },
        "outputId": "404223a7-72a0-49e8-88fc-6a2cd147b82f"
      },
      "execution_count": null,
      "outputs": [
        {
          "output_type": "stream",
          "name": "stdout",
          "text": [
            "Digite primeira nota: 8\n",
            "Digite segunda nota: 9\n",
            "Digite terceira nota: 10\n",
            "Digite quarta nota: 7\n",
            "A media do aluno é: 8.5\n"
          ]
        }
      ]
    },
    {
      "cell_type": "code",
      "source": [
        "### Questão 5 Faça um Programa que converta metros para centímetros.\n",
        "metros = float(input(\"Insira o valor de metros que você que converter: \"))\n",
        "conversao = float(metros * 100)\n",
        "print(\"O valor é: \", conversao, \"centimetros\")\n"
      ],
      "metadata": {
        "id": "AtoNtrmH2AUC",
        "colab": {
          "base_uri": "https://localhost:8080/"
        },
        "outputId": "2df7583c-d78a-4a72-fe71-69e575132450"
      },
      "execution_count": null,
      "outputs": [
        {
          "output_type": "stream",
          "name": "stdout",
          "text": [
            "Insira o valor de metros que você que converter: 5\n",
            "O valor é:  500.0 centimetros\n"
          ]
        }
      ]
    },
    {
      "cell_type": "code",
      "source": [
        "### Questão 06 Faça um Programa que peça o raio de um círculo, calcule e mostre sua área.\n",
        "raio=float(input('Digite o valor do raio do círculo: '))\n",
        "area= 3.14 * raio**2\n",
        "print('A area de seu circulo é', area)"
      ],
      "metadata": {
        "id": "w2gPnTQ_MUmD",
        "colab": {
          "base_uri": "https://localhost:8080/"
        },
        "outputId": "8f1b05b4-fb8c-4407-8569-f774d6135b8f"
      },
      "execution_count": null,
      "outputs": [
        {
          "output_type": "stream",
          "name": "stdout",
          "text": [
            "Digite o valor do raio do círculo: 15\n",
            "A area de seu circulo é 706.5\n"
          ]
        }
      ]
    },
    {
      "cell_type": "code",
      "source": [
        "### Questão 07 Faça um Programa que calcule a área de um quadrado, em seguida mostre o dobro desta área para o usuário.\n",
        "lado=float(input('Digite o valor do lado do quadrado: '))\n",
        "area= lado**2\n",
        "print(\"O valor da area é\", area, \"e seu dobro é: \", area*2)\n",
        "\n"
      ],
      "metadata": {
        "colab": {
          "base_uri": "https://localhost:8080/"
        },
        "id": "zg0qc5aLNw_8",
        "outputId": "df74ab79-8cbc-4e76-990a-d9dacdfe87d3"
      },
      "execution_count": null,
      "outputs": [
        {
          "output_type": "stream",
          "name": "stdout",
          "text": [
            "Digite o valor do lado do quadrado: 14\n",
            "O valor da area é 196.0 e seu dobro é:  392.0\n"
          ]
        }
      ]
    },
    {
      "cell_type": "code",
      "source": [
        "### Questão 08 Faça um Programa que pergunte quanto você ganha por hora e o número de horas trabalhadas no mês.\n",
        "# Calcule e mostre o total do seu salário no referido mês.\n",
        "salario= float(input(\"Quanto você ganha por hora(R$)? \"))\n",
        "hora= int(input(\"Quantas horas você trabalha por mês? \"))\n",
        "print(\"O seu salario mensal é de R$\", salario*hora)"
      ],
      "metadata": {
        "id": "73cnYqq0Srmp",
        "colab": {
          "base_uri": "https://localhost:8080/"
        },
        "outputId": "039c19be-e0e3-4ca6-dc52-63ea00ed755e"
      },
      "execution_count": null,
      "outputs": [
        {
          "output_type": "stream",
          "name": "stdout",
          "text": [
            "Quanto você ganha por hora(R$)? 8\n",
            "Quantas horas você trabalha por mês? 140\n",
            "O seu salario mensal é de R$ 1120.0\n"
          ]
        }
      ]
    },
    {
      "cell_type": "code",
      "source": [
        "### Questão 09 Faça um Programa que peça a temperatura em graus Fahrenheit, transforme e\n",
        "#mostre a temperatura em graus Celsius. C = 5 * ((F-32) / 9).\n",
        "F= float(input(\"Coloque o valor da temperatura em Fahrenheit:\"))\n",
        "C = 5 * ((F-32) / 9)\n",
        "print(\"Isso são\", C,\"° C\")\n"
      ],
      "metadata": {
        "colab": {
          "base_uri": "https://localhost:8080/"
        },
        "id": "IfpiqMLTWTVr",
        "outputId": "42399e05-f7ae-4877-c8c8-d0e09100cc13"
      },
      "execution_count": null,
      "outputs": [
        {
          "output_type": "stream",
          "name": "stdout",
          "text": [
            "Coloque o valor da temperatura em Fahrenheit:58\n",
            "Isso são 14.444444444444445 ° C\n"
          ]
        }
      ]
    },
    {
      "cell_type": "code",
      "source": [
        "#Questão 10 Faça um Programa que peça a temperatura em graus Celsius, transforme e mostre em graus Fahrenheit. F = (C * 1,8) + 32.\n",
        "C = float(input(\"Coloque o valor da temperatura em Celsius:\"))\n",
        "F = (C * 1.8) + 32\n",
        "print(\"Isso são\", F,\"Fahrenheit\")"
      ],
      "metadata": {
        "colab": {
          "base_uri": "https://localhost:8080/"
        },
        "id": "4NM9gDT3y96r",
        "outputId": "82023649-ec62-4e26-96fc-0835dc98081c"
      },
      "execution_count": null,
      "outputs": [
        {
          "output_type": "stream",
          "name": "stdout",
          "text": [
            "Coloque o valor da temperatura em Celsius:26\n",
            "Isso são 78.80000000000001 Fahrenheit\n"
          ]
        }
      ]
    }
  ]
}