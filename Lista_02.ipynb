{
  "nbformat": 4,
  "nbformat_minor": 0,
  "metadata": {
    "colab": {
      "provenance": []
    },
    "kernelspec": {
      "name": "python3",
      "display_name": "Python 3"
    },
    "language_info": {
      "name": "python"
    }
  },
  "cells": [
    {
      "cell_type": "code",
      "execution_count": null,
      "metadata": {
        "id": "1D5m2Cog58XI",
        "colab": {
          "base_uri": "https://localhost:8080/"
        },
        "outputId": "572e05f8-535a-49f0-89bc-4622b9b9a4e4"
      },
      "outputs": [
        {
          "output_type": "stream",
          "name": "stdout",
          "text": [
            "Digite um numero:2\n",
            "Digite numero 23\n",
            "O segundo numero é maior\n"
          ]
        }
      ],
      "source": [
        "# 1. Faça um Programa que peça dois números e imprima o maior deles.\n",
        "num = int(input('Digite um numero:'))\n",
        "num2 = int(input(\"Digite numero 2\"))\n",
        "if num > num2:\n",
        "  print(\"O primeiro numero é maior\")\n",
        "if num < num2:\n",
        "  print(\"O segundo numero é maior\")\n",
        "else:\n",
        "  print(\"os dois são iguais\")"
      ]
    },
    {
      "cell_type": "code",
      "source": [
        "#2. Faça um Programa que peça um valor e mostre na tela se o valor é positivo ou negativo.\n",
        "num = int(input(\"Digite um numero:\"))\n",
        "\n",
        "if num > 0:\n",
        "  print(\"O  numero é positivo\")\n",
        "elif num < 0:\n",
        "  print(\"O  numero é negativo\")\n",
        "else:\n",
        "  print(\"O numero é 0\")"
      ],
      "metadata": {
        "id": "HP2pIT006JuI",
        "colab": {
          "base_uri": "https://localhost:8080/"
        },
        "outputId": "69ee62f2-1ec5-4172-fc96-6c19cb1321df"
      },
      "execution_count": null,
      "outputs": [
        {
          "output_type": "stream",
          "name": "stdout",
          "text": [
            "Digite um numero:5\n",
            "O  numero é positivo\n",
            "O numero é 0\n"
          ]
        }
      ]
    },
    {
      "cell_type": "code",
      "source": [
        "# 3. Faça um Programa que verifique se uma letra digitada é \"F\" ou \"M\".\n",
        "#Conforme a letra escrever: F - Feminino, M - Masculino, Sexo Inválido.\n",
        "sexo = input(\"Digite [f] se feminino ou [m] para masculino:\")\n",
        "\n",
        "if sexo == 'f':\n",
        "  print(\"Feminino\")\n",
        "elif sexo == 'm':\n",
        "  print(\"Masculino\")\n",
        "else:\n",
        "  print(\"Sexo inválido\")"
      ],
      "metadata": {
        "id": "J7p7xk026QFI",
        "colab": {
          "base_uri": "https://localhost:8080/"
        },
        "outputId": "94cb411d-9482-4a68-a824-8a50f39acb75"
      },
      "execution_count": null,
      "outputs": [
        {
          "output_type": "stream",
          "name": "stdout",
          "text": [
            "Digite [f] se feminino ou [m] para masculino:f\n",
            "Feminino\n"
          ]
        }
      ]
    },
    {
      "cell_type": "code",
      "source": [
        "# 4. Faça um Programa que verifique se uma letra digitada é vogal ou consoante.\n",
        "letra = input(\"Digite uma letra: \")\n",
        "if letra == 'a' or letra == 'e' or letra == 'i' or letra == 'o' or letra == 'u':\n",
        "  print('A letra é uma vogal')\n",
        "else:\n",
        "  print('A letra é uma consoante')"
      ],
      "metadata": {
        "id": "fD-IU-Yw6VXA",
        "colab": {
          "base_uri": "https://localhost:8080/"
        },
        "outputId": "8b8794b1-4cf8-4ac8-c9d1-2ce911978dd1"
      },
      "execution_count": null,
      "outputs": [
        {
          "output_type": "stream",
          "name": "stdout",
          "text": [
            "Digite uma letra: k\n",
            "A letra é uma consoante\n"
          ]
        }
      ]
    },
    {
      "cell_type": "code",
      "source": [
        "# 5. Faça um programa para a leitura de duas notas parciais de um aluno. \n",
        "# O programa deve calcular a média alcançada por aluno e apresentar:\n",
        "\n",
        "# 6. A mensagem \"Aprovado\", se a média alcançada for maior ou igual a sete;\n",
        "\n",
        "# 7. A mensagem \"Reprovado\", se a média for menor do que sete;\n",
        "\n",
        "# 8. A mensagem \"Aprovado com Distinção\", se a média for igual a dez.\n",
        "\n",
        "media  =  float(input(\"Informe a média do estudante: \"))\n",
        "\n",
        "if media >= 7 and media < 10:\n",
        "    print(\"Você foi aprovado\")\n",
        "elif media < 7:\n",
        "    print('Reprovado')\n",
        "else:\n",
        "    print(\"Aprovado com Distinção\")"
      ],
      "metadata": {
        "id": "Sn4-QiSQ6YH5",
        "colab": {
          "base_uri": "https://localhost:8080/"
        },
        "outputId": "0cba8d4c-05c1-4078-f225-682e472ed5bc"
      },
      "execution_count": null,
      "outputs": [
        {
          "output_type": "stream",
          "name": "stdout",
          "text": [
            "Informe a média do estudante: 8\n",
            "Você foi aprovado\n"
          ]
        }
      ]
    },
    {
      "cell_type": "code",
      "source": [
        "# 9. Faça um Programa que leia três números e mostre o maior deles.\n",
        "primeiro = int(input('Primeiro numero: '))\n",
        "segundo  = int(input('Segundo numero : '))\n",
        "terceiro = int(input('Terceiro numero: '))\n",
        "\n",
        "\n",
        "if (segundo > num):\n",
        "        num = segundo\n",
        "elif (terceiro > num):\n",
        "        num = terceiro\n",
        "print('O maior número é : ',num)\n"
      ],
      "metadata": {
        "id": "RC6dVpCs67fQ"
      },
      "execution_count": null,
      "outputs": []
    },
    {
      "cell_type": "code",
      "source": [
        "# 10. Faça um Programa que leia três números e mostre o maior e o menor deles.\n",
        "primeiro = int(input('Primeiro numero: '))\n",
        "segundo  = int(input('Segundo numero : '))\n",
        "terceiro = int(input('Terceiro numero: '))\n",
        "\n",
        "if primeiro < segundo <= terceiro:\n",
        "        print('O menor número é o : ', primeiro, 'e o maior é o: ', terceiro)\n",
        "elif segundo < terceiro <= primeiro:\n",
        "        print('O menor número é o : ', segundo,'e o maior é o: ', primeiro)\n",
        "elif terceiro < primeiro <= segundo:\n",
        "        print('O menor número é o : ', terceiro, 'e o maior é o: ', segundo )\n",
        "else:\n",
        "  print('Todos os numeros são iguais')"
      ],
      "metadata": {
        "id": "akaHeCilAT8y",
        "colab": {
          "base_uri": "https://localhost:8080/"
        },
        "outputId": "e291cfb8-bdad-49b9-80f8-66e386184ad7"
      },
      "execution_count": null,
      "outputs": [
        {
          "output_type": "stream",
          "name": "stdout",
          "text": [
            "Primeiro numero: 5\n",
            "Segundo numero : 6\n",
            "Terceiro numero: 9\n",
            "O menor número é o :  5 e o maior é o:  9\n"
          ]
        }
      ]
    },
    {
      "cell_type": "code",
      "source": [
        "# 11. Faça um programa que pergunte o preço de três produtos e informe qual\n",
        "# produto você deve comprar, sabendo que a decisão é sempre pelo mais barato.\n",
        "\n",
        "p1 = float(input(\"Digite o preço do primeiro produto: \"))\n",
        "p2 = float(input(\"Digite o preço do segundo produto: \"))\n",
        "p3 = float(input(\"Digite o preço do terceiro produto: \"))\n",
        "\n",
        "if p1 < p2 and p3:\n",
        "        print('Você deve comprar o primeiro produto')\n",
        "elif p2 < p1 and p3:\n",
        "        print('Você deve comprar o segundo produto')\n",
        "elif p3 < p1 and p2:\n",
        "        print('Você deve comprar o terceiro produto')\n",
        "\n",
        "elif p1 == p2 and p2 < p3:\n",
        "        print('O produto 1 e 2 são os mais baratos!')\n",
        "elif p1 == p3 and p3 < p2:\n",
        "        print ('O produto 1 e 3 são os mais baratos!')\n",
        "elif p2 == p3 and p3 < p1:\n",
        "        print('O produto 1 e 2 são os mais baratos!')\n",
        "else:\n",
        "    print('Todos os preços são iguais')"
      ],
      "metadata": {
        "id": "JNV6F6bgAW7_",
        "colab": {
          "base_uri": "https://localhost:8080/"
        },
        "outputId": "a4779f6d-3b18-4027-aa5b-26191ec2e2ae"
      },
      "execution_count": null,
      "outputs": [
        {
          "output_type": "stream",
          "name": "stdout",
          "text": [
            "Digite o preço do primeiro produto: 8\n",
            "Digite o preço do segundo produto: 9\n",
            "Digite o preço do terceiro produto: 8\n",
            "Você deve comprar o primeiro produto\n"
          ]
        }
      ]
    },
    {
      "cell_type": "code",
      "source": [
        "# 12. Faça um Programa que leia três números e mostre-os em ordem decrescente.\n",
        "num1 = int(input(\"Digite um numero: \"))\n",
        "num2 = int(input(\"Digite um numero: \"))\n",
        "num3 = int(input(\"Digite um numero: \"))\n",
        "\n",
        "if num1 > num2 and num2 > num3:\n",
        "  print(num1, num2, num3)\n",
        "elif num1 > num2 and num3 > num2:\n",
        "  print(num1, num3, num2)\n",
        "elif num2 > num3 and num3 > num1:\n",
        "  print(num2, num3, num1)\n",
        "elif num2 > num3 and num1 > num3:\n",
        "  print(num2, num1, num3)\n",
        "elif num3 > num2 and num2 > num1:\n",
        "  print(num3, num2, num1)\n",
        "elif num3 > num2 and num1 > num2:\n",
        "  print(num3, num1, num2)\n",
        "else:\n",
        "  print('Todos numeros são iguais')"
      ],
      "metadata": {
        "id": "WzczJjh3AjSx",
        "colab": {
          "base_uri": "https://localhost:8080/"
        },
        "outputId": "3de35e15-a030-459d-cd21-c9ef17f102f3"
      },
      "execution_count": null,
      "outputs": [
        {
          "output_type": "stream",
          "name": "stdout",
          "text": [
            "Digite um numero: 0\n",
            "Digite um numero: 1\n",
            "Digite um numero: 2\n",
            "2 1 0\n"
          ]
        }
      ]
    },
    {
      "cell_type": "code",
      "source": [
        "#13. Faça um Programa que pergunte em que turno você estuda. Peça para digitar\n",
        "#M-matutino ou V-Vespertino ou N- Noturno. Imprima a mensagem \"Bom Dia!\", \"Boa\n",
        "#Tarde!\" ou \"Boa Noite!\" ou \"Valor Inválido!\", conforme o caso.\n",
        "turno = input(\"Digite o turno em que você estuda: \\n[M] Matutino \\n[V] Vespertino \\n[N] Noturno\\n\")\n",
        "\n",
        "if turno == 'M':\n",
        "  print(\"Bom dia\")\n",
        "elif turno == 'V':\n",
        "  print(\"Boa tarde\")\n",
        "elif turno == 'N':\n",
        "  print(\"Boa noite\")\n",
        "else:\n",
        "  print(\"Valor inválido\")"
      ],
      "metadata": {
        "id": "hWC6-XJrAlCv",
        "colab": {
          "base_uri": "https://localhost:8080/"
        },
        "outputId": "e4fbbade-8a2e-4fec-f061-5aca809476fb"
      },
      "execution_count": null,
      "outputs": [
        {
          "output_type": "stream",
          "name": "stdout",
          "text": [
            "Digite o turno em que você estuda: \n",
            "[M] Matutino \n",
            "[V] Vespertino \n",
            "[N] Noturno\n",
            "K\n",
            "Valor inválido\n"
          ]
        }
      ]
    }
  ]
}