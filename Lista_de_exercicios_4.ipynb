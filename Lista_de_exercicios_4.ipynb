{
  "nbformat": 4,
  "nbformat_minor": 0,
  "metadata": {
    "colab": {
      "provenance": []
    },
    "kernelspec": {
      "name": "python3",
      "display_name": "Python 3"
    },
    "language_info": {
      "name": "python"
    }
  },
  "cells": [
    {
      "cell_type": "code",
      "execution_count": null,
      "metadata": {
        "colab": {
          "base_uri": "https://localhost:8080/"
        },
        "id": "tQlciLHyQFpv",
        "outputId": "e908f991-9cdc-4b67-c344-0c1a1f6a3118"
      },
      "outputs": [
        {
          "output_type": "stream",
          "name": "stdout",
          "text": [
            "1\n",
            "4\n",
            "9\n",
            "22\n",
            "18\n"
          ]
        }
      ],
      "source": [
        "#1. Faça um Programa que leia um vetor de 5 números inteiros e mostre-os.\n",
        "vetor = [1, 4, 9, 22, 18]\n",
        " \n",
        "i = 0\n",
        "while i < len(vetor):\n",
        "    print(vetor[i])\n",
        "    i = i + 1"
      ]
    },
    {
      "cell_type": "code",
      "source": [
        "#2. Faça um Programa que leia um vetor de 10 números reais e mostre-os na ordem\n",
        "#inversa.\n",
        "vetor = [1, 2, 3, 4, 5, 6, 7, 8, 9, 10]\n",
        "vetor.reverse()\n",
        "print(vetor) \n"
      ],
      "metadata": {
        "colab": {
          "base_uri": "https://localhost:8080/"
        },
        "id": "s6wdUvfMQtZi",
        "outputId": "da2cae75-cb21-432a-d0d9-6d8f7995b14f"
      },
      "execution_count": null,
      "outputs": [
        {
          "output_type": "stream",
          "name": "stdout",
          "text": [
            "[10, 9, 8, 7, 6, 5, 4, 3, 2, 1]\n"
          ]
        }
      ]
    },
    {
      "cell_type": "code",
      "source": [
        "vetorR = []\n",
        "print(\"Digite os numeros: \")\n",
        "for i in range(10):\n",
        "  vetorR.append(int(input('Digite o '+ str(i+1) + 'º número: \\n')))\n",
        "vetorR.reverse()\n",
        "print(vetorR) "
      ],
      "metadata": {
        "id": "TmjGr_T7v0s0"
      },
      "execution_count": null,
      "outputs": []
    },
    {
      "cell_type": "code",
      "source": [
        "#3 Faça um programa que leia 4 notas , mostre as notas e a média na tela\n",
        "nota = []\n",
        "soma = 0\n",
        "for i in range(4):\n",
        "  nota.append(float(input('Informe a '+ str(i+1)+ 'ª nota: ')))\n",
        "  soma += nota[i]\n",
        "soma = soma/4\n",
        "print('As notas foram', nota)\n",
        "print('A media das notas é: ', soma)\n"
      ],
      "metadata": {
        "colab": {
          "base_uri": "https://localhost:8080/"
        },
        "id": "wBGyOnIXoGtm",
        "outputId": "8cb4946a-003a-49c0-bc8e-04c5b55f62d4"
      },
      "execution_count": null,
      "outputs": [
        {
          "output_type": "stream",
          "name": "stdout",
          "text": [
            "Informe a 1ª nota: 8\n",
            "Informe a 2ª nota: 8\n",
            "Informe a 3ª nota: 8\n",
            "Informe a 4ª nota: 9\n",
            "[8.0, 8.0, 8.0, 9.0]\n",
            "A media das notas é:  8.25\n"
          ]
        }
      ]
    },
    {
      "cell_type": "code",
      "source": [
        "#3 Faça um programa que leia 4 notas , mostre as notas e a média na tela\n",
        "nota = []\n",
        "media = 0\n",
        "print('Informe as 4 notas')\n",
        "for i in range(4):\n",
        "    nota.append(float(input('Nota '+ str(i+1) + 'ª nota: ')))\n",
        "    media += nota[i]\n",
        "media = media/4\n",
        "print('As notas foram',nota) \n",
        "print('A media das notas é: ',media)"
      ],
      "metadata": {
        "colab": {
          "base_uri": "https://localhost:8080/"
        },
        "id": "vwGWS-MbrNlf",
        "outputId": "8067ac57-25b0-4baa-e7ed-154d1b1487fc"
      },
      "execution_count": null,
      "outputs": [
        {
          "output_type": "stream",
          "name": "stdout",
          "text": [
            "Informe as 4 notas\n",
            "Nota 1ª nota: 8\n",
            "Nota 2ª nota: 8\n",
            "Nota 3ª nota: 8\n",
            "Nota 4ª nota: 9\n",
            "As notas foram [8.0, 8.0, 8.0, 9.0]\n",
            "A media das notas é:  8.25\n"
          ]
        }
      ]
    },
    {
      "cell_type": "code",
      "source": [
        "\n",
        "listaChar = []\n",
        "consoantes = 0\n",
        "print('Informe os caracters')\n",
        "for i in range(10):\n",
        "  listaChar.append((input('Caracter  '+ str(i+1) + ':\\n')))\n",
        "  char = listaChar[i]\n",
        "  if(char not in ('a','e','i','o','u')):\n",
        "\t  consoantes += 1\n",
        "print(listaChar)\n",
        "print(consoantes)"
      ],
      "metadata": {
        "id": "ESgIG82xQ1PO"
      },
      "execution_count": null,
      "outputs": []
    },
    {
      "cell_type": "code",
      "source": [
        "#4. Faça um Programa que leia um vetor de 10 caracteres, e diga quantas consoantes\n",
        "#foram lidas. Imprima as consoantes.BO\n",
        "letras = []\n",
        "vogais = ['A','a','E', 'e','I','i','O','o','U','u']\n",
        "for i in range(10):\n",
        "  letras.append((input('Inform o '+str(i+1)+'º caracter: ')))\n",
        "  totconsoantes = 0\n",
        "  consoantes = []\n",
        "for i in range(0,10):\n",
        "  if letras[i] not in vogais:\n",
        "    consoantes.append(letras[i])\n",
        "    totconsoantes += 1\n",
        "print('Você digitou', totconsoantes,'Consoantes')\n",
        "print('Estas foram as consoates difitadas:',consoantes)"
      ],
      "metadata": {
        "colab": {
          "base_uri": "https://localhost:8080/"
        },
        "id": "CwCEoJNdsav6",
        "outputId": "c6cfe1db-d89f-445e-cd4b-e74fe9065131"
      },
      "execution_count": 9,
      "outputs": [
        {
          "output_type": "stream",
          "name": "stdout",
          "text": [
            "Inform o 1º caracter: A\n",
            "Inform o 2º caracter: S\n",
            "Inform o 3º caracter: D\n",
            "Inform o 4º caracter: F\n",
            "Inform o 5º caracter: E\n",
            "Inform o 6º caracter: T\n",
            "Inform o 7º caracter: B\n",
            "Inform o 8º caracter: T\n",
            "Inform o 9º caracter: E\n",
            "Inform o 10º caracter: I\n",
            "Você digitou 6 Consoantes\n",
            "Estas foram as consoates difitadas:  ['S', 'D', 'F', 'T', 'B', 'T']\n"
          ]
        }
      ]
    },
    {
      "cell_type": "code",
      "source": [
        "#5. Faça um Programa que leia 20 números inteiros e armazene-os num vetor.\n",
        "#Armazene os números pares no vetor PAR e os números IMPARES no vetor impar.\n",
        "#Imprima os três vetores.\n",
        "vetor = []\n",
        "numpar = []\n",
        "numimpar = []\n",
        "\n",
        "for numero in range(20):\n",
        "    vetor.append(int(input(\"Digite um número: \")))\n",
        "\n",
        "for numero in range(20):\n",
        "    if vetor[numero] % 2 == 0:\n",
        "        numpar.append(vetor[numero])\n",
        "    else:\n",
        "        numimpar.append(vetor[numero])\n",
        "\n",
        "print(\"Vetor com 20 elementos: \" + str(vetor))\n",
        "print(\"Números pares: \" + str(numpar))\n",
        "print(\"Números ímpares: \" + str(numimpar))"
      ],
      "metadata": {
        "id": "yguTzn6G78F7"
      },
      "execution_count": null,
      "outputs": []
    },
    {
      "cell_type": "code",
      "source": [
        "#6. Faça um Programa que peça as quatro notas de 10 alunos, calcule e armazene num\n",
        "#vetor a média de cada aluno, imprima o número de alunos com média maior ou igual\n",
        "#a 7.0.\n",
        "ALUNOS = 10\n",
        "NOTAS = 4\n",
        "\n",
        "medias = []\n",
        "media_sete = 0\n",
        "\n",
        "for i in range(ALUNOS):\n",
        "    media = 0\n",
        "    for j in range(NOTAS):\n",
        "        media += float(input(f\"Digite a nota {j+1} do aluno {i+1}: \"))\n",
        "    media /= NOTAS\n",
        "    medias.append(media)\n",
        "    if media >= 7:\n",
        "        media_sete += 1\n",
        "\n",
        "print(\"\\nA média dos alunos foi:\")\n",
        "for i in range(ALUNOS):\n",
        "    print(f\"Aluno {i+1}: {medias[i]}\")\n",
        "\n",
        "print(f\"\\n{media_sete} alunos tiveram média maior ou igual a 7.\")"
      ],
      "metadata": {
        "id": "i55ETZq_xHnL"
      },
      "execution_count": null,
      "outputs": []
    },
    {
      "cell_type": "code",
      "source": [
        "#7. Faça um Programa que leia um vetor de 5 números inteiros, mostre a soma, a\n",
        "#multiplicação e os números.\n",
        "# Uma lista com todos os números\n",
        "vetor = []\n",
        "soma = 0\n",
        "multiplicacao = 1\n",
        "for i in range(5):\n",
        "    vetor.append(int(input(\"Digite o \" + str(i+1)+ \"º número: \")))\n",
        "    soma = soma + (vetor[len(vetor)-1])\n",
        "    multiplicacao = multiplicacao * (vetor[len(vetor)-1])\n",
        "print(\"Os numeros listados foram: \"+str(vetor))\n",
        "print(\"A soma dos numeros é: \"+str(soma))\n",
        "print(\"A multiplicação entre numeros é igual a: \"+str(multiplicacao))\n"
      ],
      "metadata": {
        "id": "25Foc02iuLSZ"
      },
      "execution_count": null,
      "outputs": []
    },
    {
      "cell_type": "code",
      "source": [
        "#8. Faça um Programa que peça a idade e a altura de 5 pessoas, armazene cada\n",
        "#informação no seu respectivo vetor. Imprima a idade e a altura na ordem inversa a\n",
        "#ordem lida.\n",
        "idades = []\n",
        "alturas = []\n",
        "\n",
        "for valor in range(5):\n",
        "    idades.append(int(input(\"Digite a idade da  \"+str(valor+1)+'ª pessoa: ')))\n",
        "    alturas.append(float(input(\"agora sua altura: \")))\n",
        "\n",
        "print(\"Idades na ordem inversa: \")\n",
        "for valor in range(5):\n",
        "    print(idades[len(idades)-1-valor])\n",
        "\n",
        "print(\"Alturas na ordem inversa: \")\n",
        "for valor in range(5):\n",
        "    print(alturas[len(alturas)-1-valor])\n"
      ],
      "metadata": {
        "id": "fZdgSJJvRL6L",
        "colab": {
          "base_uri": "https://localhost:8080/"
        },
        "outputId": "3dea47b0-636b-4aa5-ef5c-ff3d4ff2e30f"
      },
      "execution_count": null,
      "outputs": [
        {
          "output_type": "stream",
          "name": "stdout",
          "text": [
            "Digite a idade da  1ª pessoa: 14\n",
            "agora sua altura: 1.56\n",
            "Digite a idade da  2ª pessoa: 56\n",
            "agora sua altura: 1.77\n",
            "Digite a idade da  3ª pessoa: 25\n",
            "agora sua altura: 1.77\n",
            "Digite a idade da  4ª pessoa: 36\n",
            "agora sua altura: 1.89\n",
            "Digite a idade da  5ª pessoa: 60\n",
            "agora sua altura: 1.65\n",
            "Idades na ordem inversa: \n",
            "60\n",
            "36\n",
            "25\n",
            "56\n",
            "14\n",
            "Alturas na ordem inversa: \n",
            "1.65\n",
            "1.89\n",
            "1.77\n",
            "1.77\n",
            "1.56\n"
          ]
        }
      ]
    },
    {
      "cell_type": "code",
      "source": [
        "#9. Faça um Programa que leia um vetor A com 10 números inteiros, calcule e mostre a\n",
        "#soma dos quadrados dos elementos do vetor.\n",
        "vetorA = []\n",
        "soma = 0\n",
        "for numero in range(0, 10):\n",
        "    vetorA.append(int(input(\"Digite um número: \")))\n",
        "    soma = soma + (vetorA[len(vetorA)-1]**2)\n",
        "print(\"A soma dos quadrados dos elementos do vetor é \" + str(soma))"
      ],
      "metadata": {
        "id": "1OLXCcQ9ROkI"
      },
      "execution_count": null,
      "outputs": []
    },
    {
      "cell_type": "code",
      "source": [
        "#10. Faça um Programa que leia dois vetores com 10 elementos cada. Gere um terceiro\n",
        "#vetor de 20 elementos, cujos valores deverão ser compostos pelos elementos\n",
        "#intercalados dos dois outros vetores.\n",
        "vetor1 = []\n",
        "vetor2 = []\n",
        "vetor3 = []\n",
        "\n",
        "for elemento in range(0, 10):\n",
        "    vetor1.append(int(input(\"Digite um elemento para o 1º vetor: \")))\n",
        "    \n",
        "for elemento in range(0, 10):\n",
        "    vetor2.append(int(input(\"Digite um elemento para o 2º vetor: \")))\n",
        "    \n",
        "for elemento in range(0, 10):\n",
        "    vetor3.append(vetor1[elemento])\n",
        "    vetor3.append(vetor2[elemento])\n",
        "\n",
        "print(vetor3)"
      ],
      "metadata": {
        "id": "Z--pUPBNRRA0"
      },
      "execution_count": null,
      "outputs": []
    }
  ]
}