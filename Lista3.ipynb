{
  "nbformat": 4,
  "nbformat_minor": 0,
  "metadata": {
    "colab": {
      "provenance": []
    },
    "kernelspec": {
      "name": "python3",
      "display_name": "Python 3"
    },
    "language_info": {
      "name": "python"
    }
  },
  "cells": [
    {
      "cell_type": "code",
      "execution_count": null,
      "metadata": {
        "colab": {
          "base_uri": "https://localhost:8080/"
        },
        "id": "eTapeUJPTa66",
        "outputId": "8a27bd93-a5f3-4a00-8820-ef7b366b77b6"
      },
      "outputs": [
        {
          "name": "stdout",
          "output_type": "stream",
          "text": [
            "informe a nota entre 0 e 10: 15\n",
            "Valor inválido, digite  uma nota entre 0 e 10: 56\n",
            "Valor inválido, digite  uma nota entre 0 e 10: 6\n"
          ]
        }
      ],
      "source": [
        "#1. Faça um programa que peça uma nota, entre zero e dez. Mostre uma mensagem\n",
        "#caso o valor seja inválido e continue pedindo até que o usuário informe um valor\n",
        "#válido.\n",
        "nota=float(input(\"informe a nota entre 0 e 10: \"))\n",
        "while nota < 0 or nota > 10:\n",
        "\tnota=float(input(\"Valor inválido, digite  uma nota entre 0 e 10: \"))\n"
      ]
    },
    {
      "cell_type": "code",
      "source": [
        "#2. Faça um programa que leia um nome de usuário e a sua senha e não aceite a senha\n",
        "#igual ao nome do usuário, mostrando uma mensagem de erro e voltando a pedir as\n",
        "#informações.\n",
        "nome=input(\"Digite seu nome de usuário: \")\n",
        "senha= input('Digite uma senha diferente do seu nome de usuario: ')\n",
        "while nome == senha:\n",
        "  senha= input('Senha incompativel.\\n Digite uma senha diferente do seu nome de usuario: ')\n",
        "print('Cadastro aprovado')"
      ],
      "metadata": {
        "colab": {
          "base_uri": "https://localhost:8080/"
        },
        "id": "-7US9M3SWZa1",
        "outputId": "002c88a7-efa6-4555-c137-044b8443ab80"
      },
      "execution_count": null,
      "outputs": [
        {
          "output_type": "stream",
          "name": "stdout",
          "text": [
            "Digite seu nome de usuário: daniel\n",
            "Digite uma senha diferente do seu nome de usuario: daniel\n",
            "Senha incompativel.\n",
            " Digite uma senha diferente do seu nome de usuario: daniel\n",
            "Senha incompativel.\n",
            " Digite uma senha diferente do seu nome de usuario: daniel123\n",
            "Cadastro aprovado\n"
          ]
        }
      ]
    },
    {
      "cell_type": "code",
      "source": [
        "#3. Faça um programa que leia e valide as seguintes informações:\n",
        "#Nome: maior que 3 caracteres;\n",
        "#Idade: entre 0 e 150;\n",
        "#Salário: maior que zero;\n",
        "#Sexo: 'f' ou 'm';\n",
        "#Estado Civil: 's', 'c', 'v', 'd';\n",
        "nome = input(\"Qual seu nome [minimo 4 caracteres]: \")\n",
        "while len(nome) <= 3:\n",
        "    nome = input(\"Seu nome deve ter mais que 3 caracteres: \")\n",
        "idade = int(input(\"Sua idade: \"))\n",
        "while (idade < 0) or (idade > 150):\n",
        "    idade = int(input(\"Digite um numero entre 0 e 150 anos: \"))\n",
        "salario = float(input(\"Salário: \"))\n",
        "while (salario < 0):\n",
        "    salario = float(input(\"Valor incompativel, digite um valor válido: \"))\n",
        "sexo = input(\"Sexo ('f' para feminino ou 'm' para masculino): \")\n",
        "while (sexo!= 'f' and sexo!='m'):\n",
        "    sexo = input(\"Valor inválido, digite 'f' ou 'm': \")\n",
        "civil = input(\"Estado civil: (s) para solteiro, (c) para casado,\\n(v) para viúvo ou (d) para divorciado: \")\n",
        "while (civil!='s') and (civil!='c') and (civil!='v') and (civil!='d'):\n",
        "    print(\"Digite um valor válido, '\")\n",
        "    civil = input(\"Deve ser s (solteiro), c (casado), v (viúvo) ou d (divorciado): \")"
      ],
      "metadata": {
        "colab": {
          "base_uri": "https://localhost:8080/"
        },
        "id": "gJNqhRyfWa9R",
        "outputId": "80215cbe-aafc-4aed-e6a8-0c363b1d755c"
      },
      "execution_count": null,
      "outputs": [
        {
          "name": "stdout",
          "output_type": "stream",
          "text": [
            "Qual seu nome [minimo 4 caracteres]: daniel\n",
            "Sua idade: 26\n",
            "Salário: 15200\n",
            "Sexo ('f' para feminino ou 'm' para masculino): m\n",
            "Estado civil (s) para solteiro, (c) para casado,\n",
            "(v) para viúvo ou (d) para divorciado: s\n"
          ]
        }
      ]
    },
    {
      "cell_type": "code",
      "source": [
        "#4. Supondo que a população de um país A seja da ordem de 80.000 habitantes com\n",
        "#uma taxa anual de crescimento de 3% e que a população de B seja 200.000\n",
        "#habitantes com uma taxa de crescimento de 1.5%. Faça um programa que calcule e\n",
        "#escreva o número de anos necessários para que a população do país A ultrapasse\n",
        "#ou iguale a população do país B, mantidas as taxas de crescimento.\n",
        "\n",
        "popA=80000\n",
        "taxaA= 3/100\n",
        "\n",
        "popB=200000\n",
        "taxaB= 1.5/100\n",
        "ano=0\n",
        "while popA < popB:\n",
        "    ano += 1\n",
        "    popA = int((1 + taxaA) * popA)\n",
        "    popB = int((1 + taxaB )* popB)\n",
        "\n",
        "print(\"O país A ultrapassa ou iguala o país B no ano:\",ano)\n"
      ],
      "metadata": {
        "id": "FutI8Z8lWc1j",
        "colab": {
          "base_uri": "https://localhost:8080/"
        },
        "outputId": "58c8d593-9247-4ffa-f88d-53a56310e4ba"
      },
      "execution_count": 1,
      "outputs": [
        {
          "output_type": "stream",
          "name": "stdout",
          "text": [
            "O país A ultrapassa ou iguala o país B no ano: 63\n"
          ]
        }
      ]
    },
    {
      "cell_type": "code",
      "source": [
        "A = 80000\n",
        "B = 200000\n",
        "taxaA = 0.03\n",
        "taxaB = 0.015\n",
        "\n",
        "anos = 0\n",
        "while A < B:\n",
        "    A = A + (A * taxaA)\n",
        "    B = B + (B * taxaB)\n",
        "    anos = anos + 1\n",
        "print(\"Serão necessários \" + str(anos) + \" anos para que a populaçãoo do país A ultrapasse ou iguale a população do país B\")"
      ],
      "metadata": {
        "id": "ESZknMWehMBF"
      },
      "execution_count": null,
      "outputs": []
    },
    {
      "cell_type": "code",
      "source": [
        "#5. Altere o programa anterior permitindo ao usuário informar as populações e as taxas\n",
        "#de crescimento iniciais. Valide a entrada e permita repetir a operação.\n",
        "popA=int(input(\"População do país A: \"))\n",
        "while popA<0:\n",
        "    popA=int(input(\"População do país deve ser maior que 0: \"))\n",
        "taxaA= float(input(\"Taxa de crescimento do país (%): \"))\n",
        "\n",
        "popB=int(input(\"População do país B: \"))\n",
        "while popB<0:\n",
        "    popB=int(input(\"População do país deve ser maior que 0: \"))\n",
        "taxaB= float(input(\"Taxa de crescimento do país (%): \"))\n",
        "ano=0\n",
        "while popA < popB:\n",
        "    ano += 1\n",
        "    popA = int((1 + (taxaA/100)) * popA)\n",
        "    popB = int((1 + (taxaB/100))* popB)\n",
        "    \n",
        "\n",
        "print(\"Será necessário pelo menos \" +str(ano)+\" anos para a população do país A se igualar ou passar a população do país B\")\n"
      ],
      "metadata": {
        "id": "wGTRWzs-Weqj",
        "colab": {
          "base_uri": "https://localhost:8080/"
        },
        "outputId": "4e93e523-67e3-4798-e132-508885b17830"
      },
      "execution_count": 5,
      "outputs": [
        {
          "output_type": "stream",
          "name": "stdout",
          "text": [
            "População do país A: 80000\n",
            "Taxa de crescimento do país (%)3\n",
            "População do país B: 200000\n",
            "Taxa de crescimento do país (%): 1.5\n",
            "Será necessário pelo menos63anos para a população do país A se igualar ou passar a população do país B\n"
          ]
        }
      ]
    },
    {
      "cell_type": "code",
      "source": [
        "#6. Faça um programa que imprima na tela os números de 1 a 20, um abaixo do outro.\n",
        "\n",
        "for i in range(1,21):\n",
        "    print(i)"
      ],
      "metadata": {
        "id": "U-dIBYKvWgf8"
      },
      "execution_count": null,
      "outputs": []
    },
    {
      "cell_type": "code",
      "source": [
        "#Depois modifique o programa para que ele mostre os números um ao lado do outro.\n",
        "print(list(range(1,21)))"
      ],
      "metadata": {
        "colab": {
          "base_uri": "https://localhost:8080/"
        },
        "id": "VeXfcbFHFH3h",
        "outputId": "7faed260-00ea-46ed-a849-6e0186e82a70"
      },
      "execution_count": 4,
      "outputs": [
        {
          "output_type": "stream",
          "name": "stdout",
          "text": [
            "[1, 2, 3, 4, 5, 6, 7, 8, 9, 10, 11, 12, 13, 14, 15, 16, 17, 18, 19, 20]\n"
          ]
        }
      ]
    },
    {
      "cell_type": "code",
      "source": [
        "#7. Faça um programa que leia 5 números e informe o maior número.\n",
        "numeros = []\n",
        "for num in range(1, 6):\n",
        "    numeros.append(int(input(\"Digite um número: \")))\n",
        "\n",
        "maiorNumero = numeros[0]\n",
        "\n",
        "cont = 1\n",
        "while cont < len(numeros):\n",
        "    if numeros[cont] > maiorNumero:\n",
        "        maiorNumero = numeros[cont]\n",
        "    cont = cont + 1\n",
        "        \n",
        "print (\"O maior número é: \" + str (maiorNumero))"
      ],
      "metadata": {
        "colab": {
          "base_uri": "https://localhost:8080/"
        },
        "id": "-g_9YvK7WiKU",
        "outputId": "8d501be0-3e73-4703-a139-3a04f5f69d0e"
      },
      "execution_count": null,
      "outputs": [
        {
          "output_type": "stream",
          "name": "stdout",
          "text": [
            "Digite um número: 5\n",
            "Digite um número: 6\n",
            "Digite um número: 9\n",
            "Digite um número: 7\n",
            "Digite um número: 9\n",
            "O maior número é: 9\n"
          ]
        }
      ]
    },
    {
      "cell_type": "code",
      "source": [
        "#8. Faça um programa que leia 5 números e informe a soma e a média dos números.\n",
        "soma = 0\n",
        "for i in range(5):\n",
        "    nota = float(input(f\"Informe o {i+1}º numero: \"))\n",
        "\n",
        "    soma = soma + nota\n",
        "\n",
        "print('A média entre os números é: ',soma/5)\n"
      ],
      "metadata": {
        "colab": {
          "base_uri": "https://localhost:8080/"
        },
        "id": "EaC_xtziWl4e",
        "outputId": "16ab7196-6a72-493a-fb89-d86e3c8b131e"
      },
      "execution_count": null,
      "outputs": [
        {
          "output_type": "stream",
          "name": "stdout",
          "text": [
            "Informe o 1º numero: 8\n",
            "Informe o 2º numero: 8\n",
            "Informe o 3º numero: 8\n",
            "Informe o 4º numero: 8\n",
            "Informe o 5º numero: 9\n",
            "A média entre os números é:  8.2\n"
          ]
        }
      ]
    },
    {
      "cell_type": "code",
      "source": [
        "#9. Faça um programa que imprima na tela apenas os números ímpares entre 1 e 50.\n",
        "print(list(range(1,50,2)))\n"
      ],
      "metadata": {
        "colab": {
          "base_uri": "https://localhost:8080/"
        },
        "id": "r3qK2QM6Wnys",
        "outputId": "62ec9362-6844-4aa6-b113-e3511bf75636"
      },
      "execution_count": null,
      "outputs": [
        {
          "output_type": "stream",
          "name": "stdout",
          "text": [
            "[1, 3, 5, 7, 9, 11, 13, 15, 17, 19, 21, 23, 25, 27, 29, 31, 33, 35, 37, 39, 41, 43, 45, 47, 49]\n"
          ]
        }
      ]
    },
    {
      "cell_type": "code",
      "source": [
        "#10. Faça um programa que receba dois números inteiros e gere os números inteiros que\n",
        "#estão no intervalo compreendido por eles.\n",
        "num1=int(input(\"digite um numero: \"))\n",
        "num2=int(input(\"digite outro numero: \"))\n",
        "\n",
        "for i in range(num1+1,num2):\n",
        "\t\tprint(i)"
      ],
      "metadata": {
        "colab": {
          "base_uri": "https://localhost:8080/"
        },
        "id": "SaghVjfOWpMf",
        "outputId": "6d6c0c98-3980-4fc1-8bd2-f0fb331b6fd7"
      },
      "execution_count": null,
      "outputs": [
        {
          "output_type": "stream",
          "name": "stdout",
          "text": [
            "digite um numero: 1\n",
            "digite outro numero: 10\n",
            "2\n",
            "3\n",
            "4\n",
            "5\n",
            "6\n",
            "7\n",
            "8\n",
            "9\n"
          ]
        }
      ]
    },
    {
      "cell_type": "code",
      "source": [
        "num1= int(input('Digite um numero: '))\n",
        "num2 = int(input('Digite outro numero: '))\n",
        "if num1<num2:\n",
        "  for i in range(num1+1,num2,1):\n",
        "    print(i)\n",
        "else:\n",
        "    a=num2\n",
        "    b=num1 \n",
        "    for i in range(a+1,b,1):\n",
        "      print(i)"
      ],
      "metadata": {
        "colab": {
          "base_uri": "https://localhost:8080/"
        },
        "id": "bOFy63w4M--K",
        "outputId": "d67a1946-8fac-4595-dd46-55f5ab459587"
      },
      "execution_count": null,
      "outputs": [
        {
          "output_type": "stream",
          "name": "stdout",
          "text": [
            "Digite um numero: 1\n",
            "Digite outro numero: 9\n",
            "2\n",
            "3\n",
            "4\n",
            "5\n",
            "6\n",
            "7\n",
            "8\n"
          ]
        }
      ]
    }
  ]
}